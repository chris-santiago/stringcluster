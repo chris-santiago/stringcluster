{
 "cells": [
  {
   "cell_type": "markdown",
   "id": "ad8a6ee2-379c-4b7e-9812-07c5c6dbb0a1",
   "metadata": {},
   "source": [
    "### Preliminaries"
   ]
  },
  {
   "cell_type": "code",
   "execution_count": 12,
   "id": "cc447105-dd17-4f2b-8786-0a8a3bb95b9b",
   "metadata": {},
   "outputs": [],
   "source": [
    "import re\n",
    "\n",
    "import pandas as pd\n",
    "\n",
    "from stringcluster import StringCluster"
   ]
  },
  {
   "cell_type": "code",
   "execution_count": 34,
   "id": "f66c9b93-de8b-46df-97d5-06ec545cb423",
   "metadata": {},
   "outputs": [
    {
     "data": {
      "text/html": [
       "<div>\n",
       "<style scoped>\n",
       "    .dataframe tbody tr th:only-of-type {\n",
       "        vertical-align: middle;\n",
       "    }\n",
       "\n",
       "    .dataframe tbody tr th {\n",
       "        vertical-align: top;\n",
       "    }\n",
       "\n",
       "    .dataframe thead th {\n",
       "        text-align: right;\n",
       "    }\n",
       "</style>\n",
       "<table border=\"1\" class=\"dataframe\">\n",
       "  <thead>\n",
       "    <tr style=\"text-align: right;\">\n",
       "      <th></th>\n",
       "      <th>company</th>\n",
       "    </tr>\n",
       "  </thead>\n",
       "  <tbody>\n",
       "    <tr>\n",
       "      <th>0</th>\n",
       "      <td>MICROSOFT CORP</td>\n",
       "    </tr>\n",
       "    <tr>\n",
       "      <th>1</th>\n",
       "      <td>APPLE INC</td>\n",
       "    </tr>\n",
       "    <tr>\n",
       "      <th>2</th>\n",
       "      <td>FACEBOOK INC</td>\n",
       "    </tr>\n",
       "    <tr>\n",
       "      <th>3</th>\n",
       "      <td>ISHARES TR</td>\n",
       "    </tr>\n",
       "    <tr>\n",
       "      <th>4</th>\n",
       "      <td>ORACLE CORP</td>\n",
       "    </tr>\n",
       "    <tr>\n",
       "      <th>5</th>\n",
       "      <td>ALPHABET INC - A</td>\n",
       "    </tr>\n",
       "    <tr>\n",
       "      <th>6</th>\n",
       "      <td>JOHNSON &amp; JOHNSON</td>\n",
       "    </tr>\n",
       "    <tr>\n",
       "      <th>7</th>\n",
       "      <td>WESTERN DIGITAL CORP</td>\n",
       "    </tr>\n",
       "    <tr>\n",
       "      <th>8</th>\n",
       "      <td>AMAZON.COM INC</td>\n",
       "    </tr>\n",
       "    <tr>\n",
       "      <th>9</th>\n",
       "      <td>VISA INC</td>\n",
       "    </tr>\n",
       "  </tbody>\n",
       "</table>\n",
       "</div>"
      ],
      "text/plain": [
       "                company\n",
       "0        MICROSOFT CORP\n",
       "1             APPLE INC\n",
       "2          FACEBOOK INC\n",
       "3            ISHARES TR\n",
       "4           ORACLE CORP\n",
       "5      ALPHABET INC - A\n",
       "6     JOHNSON & JOHNSON\n",
       "7  WESTERN DIGITAL CORP\n",
       "8        AMAZON.COM INC\n",
       "9              VISA INC"
      ]
     },
     "execution_count": 34,
     "metadata": {},
     "output_type": "execute_result"
    }
   ],
   "source": [
    "data = pd.read_csv('../data/companies.csv')\n",
    "data.head(10)"
   ]
  },
  {
   "cell_type": "markdown",
   "id": "aa659266-7599-4c5d-819c-f7256d5373df",
   "metadata": {},
   "source": [
    "### Data"
   ]
  },
  {
   "cell_type": "code",
   "execution_count": 35,
   "id": "7655879e-b62d-4b4d-b42f-9c2199c4ab64",
   "metadata": {},
   "outputs": [
    {
     "data": {
      "text/plain": [
       "2                                           FACEBOOK INC\n",
       "408     FACEBOOK INC            CLASS                  A\n",
       "474                                    FACEBOOK INC CL A\n",
       "998                                           FACEBOOK-A\n",
       "1042                                FACEBOOK INC CLASS A\n",
       "1101                                      FACEBOOK INC A\n",
       "1448                                      FACEBOOK INC-A\n",
       "3020                                FACEBOOK INC COM NPV\n",
       "3626                                     FACEBOOK INC -A\n",
       "3638                                            FACEBOOK\n",
       "4340                                      FACEBOOK, INC.\n",
       "Name: company, dtype: object"
      ]
     },
     "execution_count": 35,
     "metadata": {},
     "output_type": "execute_result"
    }
   ],
   "source": [
    "companies = data['company']\n",
    "mask = data['company'].str.contains('FACEBOOK')\n",
    "facebook = data['company'][mask]\n",
    "facebook"
   ]
  },
  {
   "cell_type": "markdown",
   "id": "4e3423f1-7424-486e-8366-6716f3b6c20d",
   "metadata": {
    "tags": []
   },
   "source": [
    "### Deduplicating"
   ]
  },
  {
   "cell_type": "code",
   "execution_count": 36,
   "id": "d60fbf7d-32b3-4658-b616-f4517fb18f77",
   "metadata": {},
   "outputs": [],
   "source": [
    "STOP_TOKENS = r'[\\W_]+|(corporation$)|(corp.$)|(corp$)|(incorporated$)|(inc.$)|(inc$)|(company$)|(common$)|(com$)'\n",
    "\n",
    "cluster = StringCluster(ngram_size=2, threshold=0.7, stop_tokens=STOP_TOKENS)\n",
    "labels = cluster.fit_transform(data['company'])"
   ]
  },
  {
   "cell_type": "code",
   "execution_count": 37,
   "id": "950f411e-a7de-46b8-8dd1-487372227af9",
   "metadata": {},
   "outputs": [
    {
     "data": {
      "text/plain": [
       "2       FACEBOOK INC\n",
       "408     FACEBOOK INC\n",
       "474     FACEBOOK INC\n",
       "998     FACEBOOK INC\n",
       "1042    FACEBOOK INC\n",
       "1101    FACEBOOK INC\n",
       "1448    FACEBOOK INC\n",
       "3020    FACEBOOK INC\n",
       "3626    FACEBOOK INC\n",
       "3638    FACEBOOK INC\n",
       "4340    FACEBOOK INC\n",
       "Name: company, dtype: object"
      ]
     },
     "execution_count": 37,
     "metadata": {},
     "output_type": "execute_result"
    }
   ],
   "source": [
    "labels[facebook.index]"
   ]
  },
  {
   "cell_type": "markdown",
   "id": "27a69c85-bd06-42a4-8ba7-c79243de59af",
   "metadata": {
    "tags": []
   },
   "source": [
    "### Trialing Different Threshold Values"
   ]
  },
  {
   "cell_type": "code",
   "execution_count": 41,
   "id": "72bab74c-d937-408c-881c-39bc4ba5c9dc",
   "metadata": {},
   "outputs": [
    {
     "name": "stdout",
     "output_type": "stream",
     "text": [
      "Threshold: 0.7\n",
      "----------------------------------------\n",
      "2       FACEBOOK INC\n",
      "408     FACEBOOK INC\n",
      "474     FACEBOOK INC\n",
      "998     FACEBOOK INC\n",
      "1042    FACEBOOK INC\n",
      "1101    FACEBOOK INC\n",
      "1448    FACEBOOK INC\n",
      "3020    FACEBOOK INC\n",
      "3626    FACEBOOK INC\n",
      "3638    FACEBOOK INC\n",
      "4340    FACEBOOK INC\n",
      "Name: company, dtype: object\n",
      "========================================\n",
      "Threshold: 0.75\n",
      "----------------------------------------\n",
      "2               FACEBOOK INC\n",
      "408             FACEBOOK INC\n",
      "474             FACEBOOK INC\n",
      "998             FACEBOOK INC\n",
      "1042            FACEBOOK INC\n",
      "1101            FACEBOOK INC\n",
      "1448            FACEBOOK INC\n",
      "3020    FACEBOOK INC COM NPV\n",
      "3626            FACEBOOK INC\n",
      "3638            FACEBOOK INC\n",
      "4340            FACEBOOK INC\n",
      "Name: company, dtype: object\n",
      "========================================\n",
      "Threshold: 0.8\n",
      "----------------------------------------\n",
      "2                                           FACEBOOK INC\n",
      "408     FACEBOOK INC            CLASS                  A\n",
      "474                                         FACEBOOK INC\n",
      "998                                         FACEBOOK INC\n",
      "1042    FACEBOOK INC            CLASS                  A\n",
      "1101                                        FACEBOOK INC\n",
      "1448                                        FACEBOOK INC\n",
      "3020                                FACEBOOK INC COM NPV\n",
      "3626                                        FACEBOOK INC\n",
      "3638                                        FACEBOOK INC\n",
      "4340                                        FACEBOOK INC\n",
      "Name: company, dtype: object\n",
      "========================================\n",
      "Threshold: 0.8500000000000001\n",
      "----------------------------------------\n",
      "2                                           FACEBOOK INC\n",
      "408     FACEBOOK INC            CLASS                  A\n",
      "474     FACEBOOK INC            CLASS                  A\n",
      "998                                         FACEBOOK INC\n",
      "1042    FACEBOOK INC            CLASS                  A\n",
      "1101                                        FACEBOOK INC\n",
      "1448                                        FACEBOOK INC\n",
      "3020                                FACEBOOK INC COM NPV\n",
      "3626                                        FACEBOOK INC\n",
      "3638                                        FACEBOOK INC\n",
      "4340                                        FACEBOOK INC\n",
      "Name: company, dtype: object\n",
      "========================================\n",
      "Threshold: 0.9000000000000001\n",
      "----------------------------------------\n",
      "2                                           FACEBOOK INC\n",
      "408     FACEBOOK INC            CLASS                  A\n",
      "474     FACEBOOK INC            CLASS                  A\n",
      "998                                         FACEBOOK INC\n",
      "1042    FACEBOOK INC            CLASS                  A\n",
      "1101                                   FACEBOOK INC CL A\n",
      "1448                                   FACEBOOK INC CL A\n",
      "3020                                FACEBOOK INC COM NPV\n",
      "3626                                   FACEBOOK INC CL A\n",
      "3638                                        FACEBOOK INC\n",
      "4340                                        FACEBOOK INC\n",
      "Name: company, dtype: object\n",
      "========================================\n",
      "Threshold: 0.9500000000000002\n",
      "----------------------------------------\n",
      "2                                           FACEBOOK INC\n",
      "408     FACEBOOK INC            CLASS                  A\n",
      "474                                    FACEBOOK INC CL A\n",
      "998                                         FACEBOOK INC\n",
      "1042    FACEBOOK INC            CLASS                  A\n",
      "1101                                      FACEBOOK INC A\n",
      "1448                                      FACEBOOK INC A\n",
      "3020                                FACEBOOK INC COM NPV\n",
      "3626                                      FACEBOOK INC A\n",
      "3638                                        FACEBOOK INC\n",
      "4340                                        FACEBOOK INC\n",
      "Name: company, dtype: object\n",
      "========================================\n"
     ]
    }
   ],
   "source": [
    "thresh = 0.7\n",
    "while thresh < 1:\n",
    "    cluster = StringCluster(ngram_size=2, threshold=thresh, stop_tokens=STOP_TOKENS)\n",
    "    labels = cluster.fit_transform(data['company'])\n",
    "    print(f'Threshold: {thresh}')\n",
    "    print('----------------------------------------')\n",
    "    print(labels[facebook.index])\n",
    "    print('========================================')\n",
    "    thresh += 0.05"
   ]
  }
 ],
 "metadata": {
  "kernelspec": {
   "display_name": "Python 3 (ipykernel)",
   "language": "python",
   "name": "python3"
  },
  "language_info": {
   "codemirror_mode": {
    "name": "ipython",
    "version": 3
   },
   "file_extension": ".py",
   "mimetype": "text/x-python",
   "name": "python",
   "nbconvert_exporter": "python",
   "pygments_lexer": "ipython3",
   "version": "3.9.6"
  }
 },
 "nbformat": 4,
 "nbformat_minor": 5
}
