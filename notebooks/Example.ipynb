{
 "cells": [
  {
   "cell_type": "markdown",
   "id": "ad8a6ee2-379c-4b7e-9812-07c5c6dbb0a1",
   "metadata": {},
   "source": [
    "### Preliminaries\n",
    "\n",
    "This example shows how to use `StringCluster` to deduplicate a list of public company names.  The example dataset is a series of company names and their respective variations.  \n",
    "\n",
    "`StringCluster` uses Tf-Idf vectorization to tokenize each element in a series of strings and normalize the count of each n-gram token. It then uses this transformation to construct a cosine similarity matrix by computing the linear kernel for the vector representations of each data observation. `StringCluster` can compare cosine similarity to either itself or a master list of strings to de-duplicate the original series."
   ]
  },
  {
   "cell_type": "code",
   "execution_count": 2,
   "id": "cc447105-dd17-4f2b-8786-0a8a3bb95b9b",
   "metadata": {},
   "outputs": [],
   "source": [
    "import re\n",
    "\n",
    "import pandas as pd\n",
    "\n",
    "from stringcluster import StringCluster"
   ]
  },
  {
   "cell_type": "markdown",
   "id": "aa659266-7599-4c5d-819c-f7256d5373df",
   "metadata": {},
   "source": [
    "### Data\n",
    "\n",
    "As mentioned, the example dataset is a series of company names (strings). To illustrate, we'll pull out all samples that contain the string \"FACEBOOK\"; we have 11 unique versions for this single company."
   ]
  },
  {
   "cell_type": "code",
   "execution_count": 11,
   "id": "f66c9b93-de8b-46df-97d5-06ec545cb423",
   "metadata": {},
   "outputs": [
    {
     "data": {
      "text/html": [
       "<div>\n",
       "<style scoped>\n",
       "    .dataframe tbody tr th:only-of-type {\n",
       "        vertical-align: middle;\n",
       "    }\n",
       "\n",
       "    .dataframe tbody tr th {\n",
       "        vertical-align: top;\n",
       "    }\n",
       "\n",
       "    .dataframe thead th {\n",
       "        text-align: right;\n",
       "    }\n",
       "</style>\n",
       "<table border=\"1\" class=\"dataframe\">\n",
       "  <thead>\n",
       "    <tr style=\"text-align: right;\">\n",
       "      <th></th>\n",
       "      <th>company</th>\n",
       "    </tr>\n",
       "  </thead>\n",
       "  <tbody>\n",
       "    <tr>\n",
       "      <th>0</th>\n",
       "      <td>MICROSOFT CORP</td>\n",
       "    </tr>\n",
       "    <tr>\n",
       "      <th>1</th>\n",
       "      <td>APPLE INC</td>\n",
       "    </tr>\n",
       "    <tr>\n",
       "      <th>2</th>\n",
       "      <td>FACEBOOK INC</td>\n",
       "    </tr>\n",
       "    <tr>\n",
       "      <th>3</th>\n",
       "      <td>ISHARES TR</td>\n",
       "    </tr>\n",
       "    <tr>\n",
       "      <th>4</th>\n",
       "      <td>ORACLE CORP</td>\n",
       "    </tr>\n",
       "    <tr>\n",
       "      <th>5</th>\n",
       "      <td>ALPHABET INC - A</td>\n",
       "    </tr>\n",
       "    <tr>\n",
       "      <th>6</th>\n",
       "      <td>JOHNSON &amp; JOHNSON</td>\n",
       "    </tr>\n",
       "    <tr>\n",
       "      <th>7</th>\n",
       "      <td>WESTERN DIGITAL CORP</td>\n",
       "    </tr>\n",
       "    <tr>\n",
       "      <th>8</th>\n",
       "      <td>AMAZON.COM INC</td>\n",
       "    </tr>\n",
       "    <tr>\n",
       "      <th>9</th>\n",
       "      <td>VISA INC</td>\n",
       "    </tr>\n",
       "  </tbody>\n",
       "</table>\n",
       "</div>"
      ],
      "text/plain": [
       "                company\n",
       "0        MICROSOFT CORP\n",
       "1             APPLE INC\n",
       "2          FACEBOOK INC\n",
       "3            ISHARES TR\n",
       "4           ORACLE CORP\n",
       "5      ALPHABET INC - A\n",
       "6     JOHNSON & JOHNSON\n",
       "7  WESTERN DIGITAL CORP\n",
       "8        AMAZON.COM INC\n",
       "9              VISA INC"
      ]
     },
     "execution_count": 11,
     "metadata": {},
     "output_type": "execute_result"
    }
   ],
   "source": [
    "data = pd.read_csv('../data/companies.csv')\n",
    "data.head(10)"
   ]
  },
  {
   "cell_type": "code",
   "execution_count": 13,
   "id": "7655879e-b62d-4b4d-b42f-9c2199c4ab64",
   "metadata": {},
   "outputs": [
    {
     "name": "stdout",
     "output_type": "stream",
     "text": [
      "Number of unique version: 11\n"
     ]
    },
    {
     "data": {
      "text/plain": [
       "2                                           FACEBOOK INC\n",
       "408     FACEBOOK INC            CLASS                  A\n",
       "474                                    FACEBOOK INC CL A\n",
       "998                                           FACEBOOK-A\n",
       "1042                                FACEBOOK INC CLASS A\n",
       "1101                                      FACEBOOK INC A\n",
       "1448                                      FACEBOOK INC-A\n",
       "3020                                FACEBOOK INC COM NPV\n",
       "3626                                     FACEBOOK INC -A\n",
       "3638                                            FACEBOOK\n",
       "4340                                      FACEBOOK, INC.\n",
       "Name: company, dtype: object"
      ]
     },
     "execution_count": 13,
     "metadata": {},
     "output_type": "execute_result"
    }
   ],
   "source": [
    "companies = data['company']\n",
    "mask = data['company'].str.contains('FACEBOOK')\n",
    "facebook = data['company'][mask]\n",
    "print(f'Number of unique version: {facebook.nunique()}')\n",
    "facebook"
   ]
  },
  {
   "cell_type": "markdown",
   "id": "4e3423f1-7424-486e-8366-6716f3b6c20d",
   "metadata": {
    "tags": []
   },
   "source": [
    "### Deduplicating\n",
    "\n",
    "As mentioned, `StringCluster` can be used with or without a \"master\" list of string representations, depending on the use case. A master list is provided as the `y` parameter in the `.fit_transform()` method. This can be useful if user have a designated set of representations that they wish to group each sample under.\n",
    "\n",
    "#### Without a master list\n",
    "\n",
    "Let's first take a look at use **without** a master list.  The `StringCluster` transformer takes three parameters:\n",
    "\n",
    "|Parameter|Type|Description|\n",
    "|---------|----|-----------|\n",
    "|`ngram_size`|int|Size of ngrams to be extracted; default 2.|\n",
    "|`threshold`|float|Threshold to determine similarities; must be between [0, 1]; default 0.8.|\n",
    "|`stop_tokens`|str|RegEx pattern to remove during tokenization; default `r'[\\W_]+'`|\n",
    "\n",
    "Although we're using Tf-Idf vectorization, and common tokens will have less effect, it's still important to provide a list of domain-specific stop tokens. In this case, we'll remove special characters, white space and any word that relates to \"corporation\", \"incorporated\", etc., prior to Tf-Idf vectorization-- these variations within a company's name are meaningless.\n",
    "\n",
    "After fitting the `StringCluster` object and transforming the data, we see that all 11 variations of \"Facebook\" have consolidated to \"FACEBOOK INC\". \n",
    "\n",
    "**Of note: When using `StringCluster` without a master list, the transformer will default to replacing variations of a string representation with the first variation seen-- in the case, \"FACEBOOK INC\".**"
   ]
  },
  {
   "cell_type": "code",
   "execution_count": 5,
   "id": "d60fbf7d-32b3-4658-b616-f4517fb18f77",
   "metadata": {},
   "outputs": [],
   "source": [
    "STOP_TOKENS = r'[\\W_]+|(corporation$)|(corp.$)|(corp$)|(incorporated$)|(inc.$)|(inc$)|(company$)|(common$)|(com$)'\n",
    "\n",
    "cluster = StringCluster(ngram_size=2, threshold=0.7, stop_tokens=STOP_TOKENS)\n",
    "labels = cluster.fit_transform(data['company'])"
   ]
  },
  {
   "cell_type": "code",
   "execution_count": 6,
   "id": "950f411e-a7de-46b8-8dd1-487372227af9",
   "metadata": {},
   "outputs": [
    {
     "data": {
      "text/plain": [
       "2       FACEBOOK INC\n",
       "408     FACEBOOK INC\n",
       "474     FACEBOOK INC\n",
       "998     FACEBOOK INC\n",
       "1042    FACEBOOK INC\n",
       "1101    FACEBOOK INC\n",
       "1448    FACEBOOK INC\n",
       "3020    FACEBOOK INC\n",
       "3626    FACEBOOK INC\n",
       "3638    FACEBOOK INC\n",
       "4340    FACEBOOK INC\n",
       "Name: company, dtype: object"
      ]
     },
     "execution_count": 6,
     "metadata": {},
     "output_type": "execute_result"
    }
   ],
   "source": [
    "labels[facebook.index]"
   ]
  },
  {
   "cell_type": "markdown",
   "id": "ef83e84b-9649-4f05-b72f-4b5d9d5b49ab",
   "metadata": {},
   "source": [
    "#### With a master list\n",
    "\n",
    "Let's take a look at use with a master list.  As mentioned, the mast list is passed as the `y` parameter in the `.fit()` and `fit_transform()` methods.  In this case, each string in the series is compared against the master list and replaced with the representation in the master list with which it exhibits the highest cosine similarity."
   ]
  },
  {
   "cell_type": "code",
   "execution_count": 7,
   "id": "260b5dd9-035b-453b-9a09-ca11b3dc2ee5",
   "metadata": {},
   "outputs": [],
   "source": [
    "TEST_SERIES = pd.Series(\n",
    "        ['Johnson & Johnson, Inc.', 'Johnson & Johnson Inc.', 'Johnson & Johnson Inc',\n",
    "         'Johnson & Johnson', 'Intel Corp', 'Intel Corp.', 'Intel Corporation', 'Google',\n",
    "         'Apple', 'Amazon', 'Amazon Inc', 'Comcast Inc.', 'Comcast Corp']\n",
    "    )\n",
    "MASTER = ['Johnson & Johnson', 'Intel Corp', 'Google', 'Apple Inc', 'Amazon', 'Comcast']\n",
    "\n",
    "STOP_TOKENS = r'[\\W_]+|(corporation$)|(corp.$)|(corp$)|(incorporated$)|(inc.$)|(inc$)|(company$)|(common$)|(com$)'\n",
    "\n",
    "cluster = StringCluster(ngram_size=2, stop_tokens=STOP_TOKENS)\n",
    "labels = cluster.fit_transform(TEST_SERIES, MASTER)"
   ]
  },
  {
   "cell_type": "code",
   "execution_count": 8,
   "id": "92129901-b366-4298-8f1d-657f1de83a6f",
   "metadata": {},
   "outputs": [
    {
     "data": {
      "text/plain": [
       "0     Johnson & Johnson\n",
       "1     Johnson & Johnson\n",
       "2     Johnson & Johnson\n",
       "3     Johnson & Johnson\n",
       "4            Intel Corp\n",
       "5            Intel Corp\n",
       "6            Intel Corp\n",
       "7                Google\n",
       "8             Apple Inc\n",
       "9                Amazon\n",
       "10               Amazon\n",
       "11              Comcast\n",
       "12              Comcast\n",
       "dtype: object"
      ]
     },
     "execution_count": 8,
     "metadata": {},
     "output_type": "execute_result"
    }
   ],
   "source": [
    "labels"
   ]
  },
  {
   "cell_type": "markdown",
   "id": "27a69c85-bd06-42a4-8ba7-c79243de59af",
   "metadata": {
    "tags": []
   },
   "source": [
    "### Trialing Different Threshold Values\n",
    "\n",
    "The `StringCluster` transformer is sensitive to the `threshold` parameter (especially without a master list), as this controls how matches are flagged, based on their cosine similarity.  Let's take a look at how varying levels of the `threshold` parameter affect results on our Facebook example."
   ]
  },
  {
   "cell_type": "code",
   "execution_count": 9,
   "id": "72bab74c-d937-408c-881c-39bc4ba5c9dc",
   "metadata": {},
   "outputs": [
    {
     "name": "stdout",
     "output_type": "stream",
     "text": [
      "Threshold: 0.7\n",
      "----------------------------------------\n",
      "2       FACEBOOK INC\n",
      "408     FACEBOOK INC\n",
      "474     FACEBOOK INC\n",
      "998     FACEBOOK INC\n",
      "1042    FACEBOOK INC\n",
      "1101    FACEBOOK INC\n",
      "1448    FACEBOOK INC\n",
      "3020    FACEBOOK INC\n",
      "3626    FACEBOOK INC\n",
      "3638    FACEBOOK INC\n",
      "4340    FACEBOOK INC\n",
      "Name: company, dtype: object\n",
      "========================================\n",
      "Threshold: 0.75\n",
      "----------------------------------------\n",
      "2               FACEBOOK INC\n",
      "408             FACEBOOK INC\n",
      "474             FACEBOOK INC\n",
      "998             FACEBOOK INC\n",
      "1042            FACEBOOK INC\n",
      "1101            FACEBOOK INC\n",
      "1448            FACEBOOK INC\n",
      "3020    FACEBOOK INC COM NPV\n",
      "3626            FACEBOOK INC\n",
      "3638            FACEBOOK INC\n",
      "4340            FACEBOOK INC\n",
      "Name: company, dtype: object\n",
      "========================================\n",
      "Threshold: 0.8\n",
      "----------------------------------------\n",
      "2                                           FACEBOOK INC\n",
      "408     FACEBOOK INC            CLASS                  A\n",
      "474                                         FACEBOOK INC\n",
      "998                                         FACEBOOK INC\n",
      "1042    FACEBOOK INC            CLASS                  A\n",
      "1101                                        FACEBOOK INC\n",
      "1448                                        FACEBOOK INC\n",
      "3020                                FACEBOOK INC COM NPV\n",
      "3626                                        FACEBOOK INC\n",
      "3638                                        FACEBOOK INC\n",
      "4340                                        FACEBOOK INC\n",
      "Name: company, dtype: object\n",
      "========================================\n",
      "Threshold: 0.8500000000000001\n",
      "----------------------------------------\n",
      "2                                           FACEBOOK INC\n",
      "408     FACEBOOK INC            CLASS                  A\n",
      "474     FACEBOOK INC            CLASS                  A\n",
      "998                                         FACEBOOK INC\n",
      "1042    FACEBOOK INC            CLASS                  A\n",
      "1101                                        FACEBOOK INC\n",
      "1448                                        FACEBOOK INC\n",
      "3020                                FACEBOOK INC COM NPV\n",
      "3626                                        FACEBOOK INC\n",
      "3638                                        FACEBOOK INC\n",
      "4340                                        FACEBOOK INC\n",
      "Name: company, dtype: object\n",
      "========================================\n",
      "Threshold: 0.9000000000000001\n",
      "----------------------------------------\n",
      "2                                           FACEBOOK INC\n",
      "408     FACEBOOK INC            CLASS                  A\n",
      "474     FACEBOOK INC            CLASS                  A\n",
      "998                                         FACEBOOK INC\n",
      "1042    FACEBOOK INC            CLASS                  A\n",
      "1101                                   FACEBOOK INC CL A\n",
      "1448                                   FACEBOOK INC CL A\n",
      "3020                                FACEBOOK INC COM NPV\n",
      "3626                                   FACEBOOK INC CL A\n",
      "3638                                        FACEBOOK INC\n",
      "4340                                        FACEBOOK INC\n",
      "Name: company, dtype: object\n",
      "========================================\n",
      "Threshold: 0.9500000000000002\n",
      "----------------------------------------\n",
      "2                                           FACEBOOK INC\n",
      "408     FACEBOOK INC            CLASS                  A\n",
      "474                                    FACEBOOK INC CL A\n",
      "998                                         FACEBOOK INC\n",
      "1042    FACEBOOK INC            CLASS                  A\n",
      "1101                                      FACEBOOK INC A\n",
      "1448                                      FACEBOOK INC A\n",
      "3020                                FACEBOOK INC COM NPV\n",
      "3626                                      FACEBOOK INC A\n",
      "3638                                        FACEBOOK INC\n",
      "4340                                        FACEBOOK INC\n",
      "Name: company, dtype: object\n",
      "========================================\n"
     ]
    }
   ],
   "source": [
    "thresh = 0.7\n",
    "while thresh < 1:\n",
    "    cluster = StringCluster(ngram_size=2, threshold=thresh, stop_tokens=STOP_TOKENS)\n",
    "    labels = cluster.fit_transform(data['company'])\n",
    "    print(f'Threshold: {thresh}')\n",
    "    print('----------------------------------------')\n",
    "    print(labels[facebook.index])\n",
    "    print('========================================')\n",
    "    thresh += 0.05"
   ]
  }
 ],
 "metadata": {
  "kernelspec": {
   "display_name": "Python 3 (ipykernel)",
   "language": "python",
   "name": "python3"
  },
  "language_info": {
   "codemirror_mode": {
    "name": "ipython",
    "version": 3
   },
   "file_extension": ".py",
   "mimetype": "text/x-python",
   "name": "python",
   "nbconvert_exporter": "python",
   "pygments_lexer": "ipython3",
   "version": "3.9.6"
  }
 },
 "nbformat": 4,
 "nbformat_minor": 5
}
